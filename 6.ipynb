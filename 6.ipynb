{
 "cells": [
  {
   "cell_type": "code",
   "execution_count": 3,
   "id": "81e83c71-b6e9-4efd-b67a-3a0d35d93432",
   "metadata": {},
   "outputs": [
    {
     "name": "stdout",
     "output_type": "stream",
     "text": [
      "Epoch 1/5\n",
      "\u001b[1m313/313\u001b[0m \u001b[32m━━━━━━━━━━━━━━━━━━━━\u001b[0m\u001b[37m\u001b[0m \u001b[1m87s\u001b[0m 200ms/step - accuracy: 0.6894 - loss: 0.5546 - val_accuracy: 0.8682 - val_loss: 0.3151\n",
      "Epoch 2/5\n",
      "\u001b[1m313/313\u001b[0m \u001b[32m━━━━━━━━━━━━━━━━━━━━\u001b[0m\u001b[37m\u001b[0m \u001b[1m53s\u001b[0m 168ms/step - accuracy: 0.9105 - loss: 0.2368 - val_accuracy: 0.8692 - val_loss: 0.3054\n",
      "Epoch 3/5\n",
      "\u001b[1m313/313\u001b[0m \u001b[32m━━━━━━━━━━━━━━━━━━━━\u001b[0m\u001b[37m\u001b[0m \u001b[1m46s\u001b[0m 148ms/step - accuracy: 0.9425 - loss: 0.1618 - val_accuracy: 0.8600 - val_loss: 0.3609\n",
      "Epoch 4/5\n",
      "\u001b[1m313/313\u001b[0m \u001b[32m━━━━━━━━━━━━━━━━━━━━\u001b[0m\u001b[37m\u001b[0m \u001b[1m66s\u001b[0m 95ms/step - accuracy: 0.9538 - loss: 0.1307 - val_accuracy: 0.8738 - val_loss: 0.3783\n",
      "Epoch 5/5\n",
      "\u001b[1m313/313\u001b[0m \u001b[32m━━━━━━━━━━━━━━━━━━━━\u001b[0m\u001b[37m\u001b[0m \u001b[1m20s\u001b[0m 65ms/step - accuracy: 0.9688 - loss: 0.0943 - val_accuracy: 0.8700 - val_loss: 0.4513\n",
      "\u001b[1m782/782\u001b[0m \u001b[32m━━━━━━━━━━━━━━━━━━━━\u001b[0m\u001b[37m\u001b[0m \u001b[1m8s\u001b[0m 10ms/step - accuracy: 0.8530 - loss: 0.5039\n",
      "Test Accuracy: 0.85\n",
      "\u001b[1m1/1\u001b[0m \u001b[32m━━━━━━━━━━━━━━━━━━━━\u001b[0m\u001b[37m\u001b[0m \u001b[1m0s\u001b[0m 327ms/step\n",
      "Positive sentiment with confidence 0.71\n"
     ]
    }
   ],
   "source": [
    "import tensorflow as tf\n",
    "from tensorflow.keras.datasets import imdb\n",
    "from tensorflow.keras.preprocessing.sequence import pad_sequences\n",
    "from tensorflow.keras.models import Sequential\n",
    "from tensorflow.keras.layers import Embedding, Bidirectional, LSTM, Dense\n",
    "\n",
    "# Parameters\n",
    "max_features, max_len = 10000, 200\n",
    "\n",
    "# Load and preprocess data\n",
    "(x_train, y_train), (x_test, y_test) = imdb.load_data(num_words=max_features)\n",
    "x_train, x_test = map(lambda x: pad_sequences(x, maxlen=max_len), (x_train, x_test))\n",
    "\n",
    "# Build and compile model\n",
    "model = Sequential([\n",
    "    Embedding(max_features, 64),  # Removed input_length\n",
    "    Bidirectional(LSTM(32)),\n",
    "    Dense(1, activation='sigmoid')\n",
    "])\n",
    "model.compile(optimizer='adam', loss='binary_crossentropy', metrics=['accuracy'])\n",
    "model.fit(x_train, y_train, epochs=5, batch_size=64, validation_split=0.2)\n",
    "\n",
    "# Evaluate model\n",
    "print(f\"Test Accuracy: {model.evaluate(x_test, y_test)[1]:.2f}\")\n",
    "\n",
    "# Custom review prediction\n",
    "example_review = \"The movie was absolutely amazing, I loved it!\"\n",
    "encoded_review = [imdb.get_word_index().get(word, 2) for word in example_review.lower().split()]\n",
    "padded_review = pad_sequences([encoded_review], maxlen=max_len)\n",
    "prediction = model.predict(padded_review)[0][0]\n",
    "print(f\"{'Positive' if prediction < 0.5 else 'Negative'} sentiment with confidence {1 - prediction if prediction < 0.5 else prediction:.2f}\")\n"
   ]
  },
  {
   "cell_type": "code",
   "execution_count": null,
   "id": "ac9ba50f-6e9f-4cb6-9576-90e4351c68b3",
   "metadata": {},
   "outputs": [],
   "source": []
  }
 ],
 "metadata": {
  "kernelspec": {
   "display_name": "Python 3 (ipykernel)",
   "language": "python",
   "name": "python3"
  },
  "language_info": {
   "codemirror_mode": {
    "name": "ipython",
    "version": 3
   },
   "file_extension": ".py",
   "mimetype": "text/x-python",
   "name": "python",
   "nbconvert_exporter": "python",
   "pygments_lexer": "ipython3",
   "version": "3.12.4"
  }
 },
 "nbformat": 4,
 "nbformat_minor": 5
}
